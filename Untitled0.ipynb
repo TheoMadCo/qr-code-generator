{
  "nbformat": 4,
  "nbformat_minor": 0,
  "metadata": {
    "colab": {
      "provenance": [],
      "authorship_tag": "ABX9TyP0FOBxQX4dz6hIgZFkMKle",
      "include_colab_link": true
    },
    "kernelspec": {
      "name": "python3",
      "display_name": "Python 3"
    },
    "language_info": {
      "name": "python"
    }
  },
  "cells": [
    {
      "cell_type": "markdown",
      "metadata": {
        "id": "view-in-github",
        "colab_type": "text"
      },
      "source": [
        "<a href=\"https://colab.research.google.com/github/TheoMadCo/qr-code-generator/blob/main/Untitled0.ipynb\" target=\"_parent\"><img src=\"https://colab.research.google.com/assets/colab-badge.svg\" alt=\"Open In Colab\"/></a>"
      ]
    },
    {
      "cell_type": "code",
      "source": [
        "pip install qrcode"
      ],
      "metadata": {
        "colab": {
          "base_uri": "https://localhost:8080/"
        },
        "id": "LGqlhj42pv7O",
        "outputId": "4e674485-135e-41af-a3e6-e35c87531426"
      },
      "execution_count": 17,
      "outputs": [
        {
          "output_type": "stream",
          "name": "stdout",
          "text": [
            "Looking in indexes: https://pypi.org/simple, https://us-python.pkg.dev/colab-wheels/public/simple/\n",
            "Requirement already satisfied: qrcode in /usr/local/lib/python3.9/dist-packages (7.4.2)\n",
            "Requirement already satisfied: typing-extensions in /usr/local/lib/python3.9/dist-packages (from qrcode) (4.5.0)\n",
            "Requirement already satisfied: pypng in /usr/local/lib/python3.9/dist-packages (from qrcode) (0.20220715.0)\n"
          ]
        }
      ]
    },
    {
      "cell_type": "code",
      "source": [
        "pip install requests"
      ],
      "metadata": {
        "colab": {
          "base_uri": "https://localhost:8080/"
        },
        "id": "JFd_OkZGrJJ6",
        "outputId": "092f0633-cffa-41b6-fde2-172ca9910fa2"
      },
      "execution_count": 18,
      "outputs": [
        {
          "output_type": "stream",
          "name": "stdout",
          "text": [
            "Looking in indexes: https://pypi.org/simple, https://us-python.pkg.dev/colab-wheels/public/simple/\n",
            "Requirement already satisfied: requests in /usr/local/lib/python3.9/dist-packages (2.25.1)\n",
            "Requirement already satisfied: idna<3,>=2.5 in /usr/local/lib/python3.9/dist-packages (from requests) (2.10)\n",
            "Requirement already satisfied: chardet<5,>=3.0.2 in /usr/local/lib/python3.9/dist-packages (from requests) (4.0.0)\n",
            "Requirement already satisfied: urllib3<1.27,>=1.21.1 in /usr/local/lib/python3.9/dist-packages (from requests) (1.26.15)\n",
            "Requirement already satisfied: certifi>=2017.4.17 in /usr/local/lib/python3.9/dist-packages (from requests) (2022.12.7)\n"
          ]
        }
      ]
    },
    {
      "cell_type": "code",
      "execution_count": 21,
      "metadata": {
        "colab": {
          "base_uri": "https://localhost:8080/",
          "height": 340
        },
        "id": "mwUSzRc1paGr",
        "outputId": "472219fb-b1f9-462c-b5be-3daa0572811a"
      },
      "outputs": [
        {
          "name": "stdout",
          "output_type": "stream",
          "text": [
            "Enter the URL: https://pizzeriamonte.neocities.org/\n",
            "Select error correction level (L, M, Q, or H): H\n",
            "Select logo source (1 for local file, 2 for internet URL): https://pizzeriamonte.neocities.org/logo.png\n",
            "Invalid input. Please try again.\n",
            "Select logo source (1 for local file, 2 for internet URL): 2\n",
            "Enter logo image URL (PNG format): https://pizzeriamonte.neocities.org/logo.png\n"
          ]
        },
        {
          "output_type": "error",
          "ename": "AttributeError",
          "evalue": "ignored",
          "traceback": [
            "\u001b[0;31m---------------------------------------------------------------------------\u001b[0m",
            "\u001b[0;31mAttributeError\u001b[0m                            Traceback (most recent call last)",
            "\u001b[0;32m<ipython-input-21-46714e8c1871>\u001b[0m in \u001b[0;36m<module>\u001b[0;34m\u001b[0m\n\u001b[1;32m     36\u001b[0m \u001b[0mversion\u001b[0m \u001b[0;34m=\u001b[0m \u001b[0;36m1\u001b[0m\u001b[0;34m\u001b[0m\u001b[0;34m\u001b[0m\u001b[0m\n\u001b[1;32m     37\u001b[0m \u001b[0;32mwhile\u001b[0m \u001b[0;32mTrue\u001b[0m\u001b[0;34m:\u001b[0m\u001b[0;34m\u001b[0m\u001b[0;34m\u001b[0m\u001b[0m\n\u001b[0;32m---> 38\u001b[0;31m     \u001b[0;32mif\u001b[0m \u001b[0mqrcode\u001b[0m\u001b[0;34m.\u001b[0m\u001b[0mutil\u001b[0m\u001b[0;34m.\u001b[0m\u001b[0mmax_data_bits\u001b[0m\u001b[0;34m(\u001b[0m\u001b[0mversion\u001b[0m\u001b[0;34m,\u001b[0m \u001b[0merror_correction\u001b[0m\u001b[0;34m)\u001b[0m \u001b[0;34m>=\u001b[0m \u001b[0mdata_length\u001b[0m\u001b[0;34m:\u001b[0m\u001b[0;34m\u001b[0m\u001b[0;34m\u001b[0m\u001b[0m\n\u001b[0m\u001b[1;32m     39\u001b[0m         \u001b[0;32mbreak\u001b[0m\u001b[0;34m\u001b[0m\u001b[0;34m\u001b[0m\u001b[0m\n\u001b[1;32m     40\u001b[0m     \u001b[0mversion\u001b[0m \u001b[0;34m+=\u001b[0m \u001b[0;36m1\u001b[0m\u001b[0;34m\u001b[0m\u001b[0;34m\u001b[0m\u001b[0m\n",
            "\u001b[0;31mAttributeError\u001b[0m: module 'qrcode.util' has no attribute 'max_data_bits'"
          ]
        }
      ],
      "source": [
        "import qrcode\n",
        "from PIL import Image\n",
        "import urllib.request\n",
        "\n",
        "# Take URL input from the user\n",
        "url = input(\"Enter the URL: \")\n",
        "\n",
        "# Take error correction level input from the user\n",
        "while True:\n",
        "    level = input(\"Select error correction level (L, M, Q, or H): \")\n",
        "    level_map = {\"L\": qrcode.constants.ERROR_CORRECT_L,\n",
        "                 \"M\": qrcode.constants.ERROR_CORRECT_M,\n",
        "                 \"Q\": qrcode.constants.ERROR_CORRECT_Q,\n",
        "                 \"H\": qrcode.constants.ERROR_CORRECT_H}\n",
        "    if level.upper() in level_map:\n",
        "        error_correction = level_map[level.upper()]\n",
        "        break\n",
        "    print(\"Invalid input. Please try again.\")\n",
        "\n",
        "# Take logo image file input from the user\n",
        "while True:\n",
        "    logo_source = input(\"Select logo source (1 for local file, 2 for internet URL): \")\n",
        "    if logo_source == \"1\":\n",
        "        logo_file = input(\"Enter logo image file (PNG format): \")\n",
        "        logo = Image.open(logo_file)\n",
        "        break\n",
        "    elif logo_source == \"2\":\n",
        "        logo_url = input(\"Enter logo image URL (PNG format): \")\n",
        "        with urllib.request.urlopen(logo_url) as url_obj:\n",
        "            logo = Image.open(url_obj)\n",
        "        break\n",
        "    print(\"Invalid input. Please try again.\")\n",
        "\n",
        "# Determine the QR code version based on the amount of data being stored\n",
        "data_length = len(url.encode('utf-8')) * 8\n",
        "version = 1\n",
        "while True:\n",
        "    if qrcode.util.max_data_bits(version, error_correction) >= data_length:\n",
        "        break\n",
        "    version += 1\n",
        "    if version > 40:\n",
        "        print(\"Data too long for a QR code.\")\n",
        "        quit()\n",
        "\n",
        "# Determine the maximum data bits that can be stored\n",
        "max_data_bits = qrcode.util.max_data_bits(version, error_correction)\n",
        "\n",
        "# Calculate maximum logo size\n",
        "logo_width, logo_height = logo.size\n",
        "bits_required = logo_width * logo_height * 3\n",
        "max_logo_size = int((max_data_bits / 3) ** 0.5)\n",
        "\n",
        "# Scale the logo down to fit within the maximum logo size\n",
        "if logo_width > max_logo_size or logo_height > max_logo_size:\n",
        "    logo_ratio = min(max_logo_size / logo_width, max_logo_size / logo_height)\n",
        "    new_logo_width = int(logo_width * logo_ratio)\n",
        "    new_logo_height = int(logo_height * logo_ratio)\n",
        "    logo = logo.resize((new_logo_width, new_logo_height))\n",
        "\n",
        "# Generate QR code\n",
        "qr = qrcode.QRCode(version=version,\n",
        "                   error_correction=error_correction,\n",
        "                   box_size=10,\n",
        "                   border=4)\n",
        "qr.add_data(url)\n",
        "qr.make(fit=True)\n",
        "qr_img = qr.make_image(fill_color=\"black\", back_color=\"white\")\n",
        "\n",
        "# Add logo to QR code\n",
        "qr_width, qr_height = qr_img.size\n",
        "logo_pos_x = int((qr_width - logo.width) / 2)\n",
        "logo_pos_y = int((qr_height - logo.height) / 2)\n",
        "qr_img.paste(logo, (logo_pos_x, logo_pos_y), logo)\n",
        "\n",
        "# Save QR code with logo\n",
        "qr_img.save(\"qr_code.png\")\n"
      ]
    }
  ]
}